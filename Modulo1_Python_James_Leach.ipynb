{
  "nbformat": 4,
  "nbformat_minor": 0,
  "metadata": {
    "colab": {
      "provenance": []
    },
    "kernelspec": {
      "name": "python3",
      "display_name": "Python 3"
    },
    "language_info": {
      "name": "python"
    }
  },
  "cells": [
    {
      "cell_type": "code",
      "execution_count": null,
      "metadata": {
        "colab": {
          "base_uri": "https://localhost:8080/"
        },
        "id": "AmkjpgAxWbbW",
        "outputId": "69c34808-b837-48ae-dcf3-66ac9b42146b"
      },
      "outputs": [
        {
          "output_type": "stream",
          "name": "stdout",
          "text": [
            "Hello World\n",
            "Hello World\n",
            "Hello World\n",
            "Hello World\n",
            "Hello World\n",
            "Hello World\n",
            "Hello World\n",
            "Hello World\n",
            "Hello World\n",
            "Hello World\n",
            "Hello World\n",
            "Hello World\n",
            "Hello World\n",
            "Hello World\n",
            "Hello World\n",
            "Hello World\n",
            "Hello World\n",
            "Hello World\n",
            "Hello World\n",
            "Hello World\n",
            "Hello World\n",
            "Hello World\n",
            "Hello World\n",
            "Hello World\n",
            "Hello World\n",
            "Hello World\n",
            "Hello World\n",
            "Hello World\n",
            "Hello World\n",
            "Hello World\n",
            "Hello World\n",
            "Hello World\n",
            "Hello World\n",
            "Hello World\n",
            "Hello World\n",
            "Hello World\n",
            "Hello World\n",
            "Hello World\n",
            "Hello World\n",
            "Hello World\n",
            "Hello World\n",
            "Hello World\n",
            "Hello World\n",
            "Hello World\n",
            "Hello World\n",
            "Hello World\n",
            "Hello World\n",
            "Hello World\n",
            "Hello World\n",
            "Hello World\n",
            "Hello World\n",
            "Hello World\n",
            "Hello World\n",
            "Hello World\n",
            "Hello World\n",
            "Hello World\n",
            "Hello World\n",
            "Hello World\n",
            "Hello World\n",
            "Hello World\n",
            "Hello World\n",
            "Hello World\n",
            "Hello World\n",
            "Hello World\n",
            "Hello World\n",
            "Hello World\n",
            "Hello World\n",
            "Hello World\n",
            "Hello World\n",
            "Hello World\n",
            "Hello World\n",
            "Hello World\n",
            "Hello World\n"
          ]
        }
      ],
      "source": [
        "#ejercicio 1 - Imprime “Hello world” 73 veces. \n",
        "for x in range(1,74):\n",
        "  print('Hello World')"
      ]
    },
    {
      "cell_type": "code",
      "source": [
        "#ejercicio 2 - Crea un programa en python que devuelva el valor del septuagésimo tercer (73º) número de la serie de Fibonacci. \n",
        "a=1\n",
        "b=2\n",
        "resultado=[1,2]\n",
        "for el in range (1,74):\n",
        "  c=a+b\n",
        "  a=b\n",
        "  b=c\n",
        "print(c)"
      ],
      "metadata": {
        "colab": {
          "base_uri": "https://localhost:8080/"
        },
        "id": "3H0_pB8ZXQ70",
        "outputId": "3b77e953-f648-4a85-cb84-addd22721c0e"
      },
      "execution_count": null,
      "outputs": [
        {
          "output_type": "stream",
          "name": "stdout",
          "text": [
            "3416454622906707\n"
          ]
        }
      ]
    },
    {
      "cell_type": "code",
      "source": [
        "#ejercicio 3.A - Crea un data frame en pandas con 201 filas y las siguientes columnas: a. Una a la que denominaremos t, con los números entre 0 y 4 separados por intervalos de 0.02. Es decir: 0, 0.02, 0.04, ..., 4 \n",
        "from numpy import linspace as ls\n",
        "from pandas import DataFrame as df\n",
        "diccionario = {\n",
        "    't': ls (0,4,201)\n",
        "}\n",
        "diccionario"
      ],
      "metadata": {
        "colab": {
          "base_uri": "https://localhost:8080/"
        },
        "id": "O5EIRvzPb320",
        "outputId": "ba22309b-99e1-4a3e-fb9b-3578735da2a6"
      },
      "execution_count": null,
      "outputs": [
        {
          "output_type": "execute_result",
          "data": {
            "text/plain": [
              "{'t': array([0.  , 0.02, 0.04, 0.06, 0.08, 0.1 , 0.12, 0.14, 0.16, 0.18, 0.2 ,\n",
              "        0.22, 0.24, 0.26, 0.28, 0.3 , 0.32, 0.34, 0.36, 0.38, 0.4 , 0.42,\n",
              "        0.44, 0.46, 0.48, 0.5 , 0.52, 0.54, 0.56, 0.58, 0.6 , 0.62, 0.64,\n",
              "        0.66, 0.68, 0.7 , 0.72, 0.74, 0.76, 0.78, 0.8 , 0.82, 0.84, 0.86,\n",
              "        0.88, 0.9 , 0.92, 0.94, 0.96, 0.98, 1.  , 1.02, 1.04, 1.06, 1.08,\n",
              "        1.1 , 1.12, 1.14, 1.16, 1.18, 1.2 , 1.22, 1.24, 1.26, 1.28, 1.3 ,\n",
              "        1.32, 1.34, 1.36, 1.38, 1.4 , 1.42, 1.44, 1.46, 1.48, 1.5 , 1.52,\n",
              "        1.54, 1.56, 1.58, 1.6 , 1.62, 1.64, 1.66, 1.68, 1.7 , 1.72, 1.74,\n",
              "        1.76, 1.78, 1.8 , 1.82, 1.84, 1.86, 1.88, 1.9 , 1.92, 1.94, 1.96,\n",
              "        1.98, 2.  , 2.02, 2.04, 2.06, 2.08, 2.1 , 2.12, 2.14, 2.16, 2.18,\n",
              "        2.2 , 2.22, 2.24, 2.26, 2.28, 2.3 , 2.32, 2.34, 2.36, 2.38, 2.4 ,\n",
              "        2.42, 2.44, 2.46, 2.48, 2.5 , 2.52, 2.54, 2.56, 2.58, 2.6 , 2.62,\n",
              "        2.64, 2.66, 2.68, 2.7 , 2.72, 2.74, 2.76, 2.78, 2.8 , 2.82, 2.84,\n",
              "        2.86, 2.88, 2.9 , 2.92, 2.94, 2.96, 2.98, 3.  , 3.02, 3.04, 3.06,\n",
              "        3.08, 3.1 , 3.12, 3.14, 3.16, 3.18, 3.2 , 3.22, 3.24, 3.26, 3.28,\n",
              "        3.3 , 3.32, 3.34, 3.36, 3.38, 3.4 , 3.42, 3.44, 3.46, 3.48, 3.5 ,\n",
              "        3.52, 3.54, 3.56, 3.58, 3.6 , 3.62, 3.64, 3.66, 3.68, 3.7 , 3.72,\n",
              "        3.74, 3.76, 3.78, 3.8 , 3.82, 3.84, 3.86, 3.88, 3.9 , 3.92, 3.94,\n",
              "        3.96, 3.98, 4.  ])}"
            ]
          },
          "metadata": {},
          "execution_count": 6
        }
      ]
    },
    {
      "cell_type": "code",
      "source": [
        "#ejercicio 3.B - Otra con el seno de t a la que llamaremos s. \n",
        "import numpy as np\n",
        "import pandas as pd\n",
        "col1 = np.linspace(0,4,201)\n",
        "df=pd.DataFrame(col1,columns=['t'])\n",
        "df['s'] = df['t'].apply(np.sin)\n",
        "print(df)"
      ],
      "metadata": {
        "colab": {
          "base_uri": "https://localhost:8080/"
        },
        "id": "glJIhfwtc-cV",
        "outputId": "c70d0422-f610-4167-e9e4-c6afd87e970d"
      },
      "execution_count": null,
      "outputs": [
        {
          "output_type": "stream",
          "name": "stdout",
          "text": [
            "        t         s\n",
            "0    0.00  0.000000\n",
            "1    0.02  0.019999\n",
            "2    0.04  0.039989\n",
            "3    0.06  0.059964\n",
            "4    0.08  0.079915\n",
            "..    ...       ...\n",
            "196  3.92 -0.702146\n",
            "197  3.94 -0.716246\n",
            "198  3.96 -0.730058\n",
            "199  3.98 -0.743579\n",
            "200  4.00 -0.756802\n",
            "\n",
            "[201 rows x 2 columns]\n"
          ]
        }
      ]
    },
    {
      "cell_type": "code",
      "source": [
        "#ejercicio 3.C - Otra con el seno el valor que tiene el seno de t 10 registros posteriores al que llamaremos s10. Sugerencia: El método shift de un data frame de pandas permite crear columnas a partir del desplazamiento de la posición de otras. \n",
        "df ['s10'] = df['s'].shift(10)\n",
        "print(df)"
      ],
      "metadata": {
        "colab": {
          "base_uri": "https://localhost:8080/"
        },
        "id": "f7OcCsd0eT-7",
        "outputId": "43f5b543-dc55-48fd-befb-47bf56e95428"
      },
      "execution_count": null,
      "outputs": [
        {
          "output_type": "stream",
          "name": "stdout",
          "text": [
            "        t         s       s10\n",
            "0    0.00  0.000000       NaN\n",
            "1    0.02  0.019999       NaN\n",
            "2    0.04  0.039989       NaN\n",
            "3    0.06  0.059964       NaN\n",
            "4    0.08  0.079915       NaN\n",
            "..    ...       ...       ...\n",
            "196  3.92 -0.702146 -0.546691\n",
            "197  3.94 -0.716246 -0.563327\n",
            "198  3.96 -0.730058 -0.579738\n",
            "199  3.98 -0.743579 -0.595917\n",
            "200  4.00 -0.756802 -0.611858\n",
            "\n",
            "[201 rows x 3 columns]\n"
          ]
        }
      ]
    },
    {
      "cell_type": "code",
      "source": [
        "#ejercicio 3.D - Otra columna a la que llamaremos d que será la diferencia entre las dos anteriores. \n",
        "\n",
        "df ['d'] = df['s10'] - df['s']\n",
        "print(df)"
      ],
      "metadata": {
        "colab": {
          "base_uri": "https://localhost:8080/"
        },
        "id": "0QcyJKmke1sn",
        "outputId": "ba46d731-81ac-48c1-a876-2f1f7b066b1c"
      },
      "execution_count": null,
      "outputs": [
        {
          "output_type": "stream",
          "name": "stdout",
          "text": [
            "        t         s       s10         d\n",
            "0    0.00  0.000000       NaN       NaN\n",
            "1    0.02  0.019999       NaN       NaN\n",
            "2    0.04  0.039989       NaN       NaN\n",
            "3    0.06  0.059964       NaN       NaN\n",
            "4    0.08  0.079915       NaN       NaN\n",
            "..    ...       ...       ...       ...\n",
            "196  3.92 -0.702146 -0.546691  0.155455\n",
            "197  3.94 -0.716246 -0.563327  0.152918\n",
            "198  3.96 -0.730058 -0.579738  0.150320\n",
            "199  3.98 -0.743579 -0.595917  0.147662\n",
            "200  4.00 -0.756802 -0.611858  0.144945\n",
            "\n",
            "[201 rows x 4 columns]\n"
          ]
        }
      ]
    },
    {
      "cell_type": "code",
      "source": [
        "#ejercicio 3.E - Otra columna a la que llamaremos p. Esta columna será igual a 1 si el registro de la columna d es positivo y 0 si es negativo. \n",
        "def is_positive(x):\n",
        "  if x>0:\n",
        "    return 1\n",
        "  else :\n",
        "      return 0\n",
        "\n",
        "df['p'] = df['d'].apply(lambda x: is_positive(x))\n",
        "print (df)"
      ],
      "metadata": {
        "colab": {
          "base_uri": "https://localhost:8080/"
        },
        "id": "AYsosoVGgcNR",
        "outputId": "3228f12e-878e-4331-db55-38d6a11bd4b8"
      },
      "execution_count": null,
      "outputs": [
        {
          "output_type": "stream",
          "name": "stdout",
          "text": [
            "        t         s       s10         d  p\n",
            "0    0.00  0.000000       NaN       NaN  0\n",
            "1    0.02  0.019999       NaN       NaN  0\n",
            "2    0.04  0.039989       NaN       NaN  0\n",
            "3    0.06  0.059964       NaN       NaN  0\n",
            "4    0.08  0.079915       NaN       NaN  0\n",
            "..    ...       ...       ...       ... ..\n",
            "196  3.92 -0.702146 -0.546691  0.155455  1\n",
            "197  3.94 -0.716246 -0.563327  0.152918  1\n",
            "198  3.96 -0.730058 -0.579738  0.150320  1\n",
            "199  3.98 -0.743579 -0.595917  0.147662  1\n",
            "200  4.00 -0.756802 -0.611858  0.144945  1\n",
            "\n",
            "[201 rows x 5 columns]\n"
          ]
        }
      ]
    },
    {
      "cell_type": "code",
      "source": [
        "#ejercicio 3.F - Guarda el resultado en un archivo “.csv” separado por “;”. \n",
        "df.to_csv ('ejercicio1-3',sep =';')"
      ],
      "metadata": {
        "id": "9XkHgOSriJFX"
      },
      "execution_count": null,
      "outputs": []
    },
    {
      "cell_type": "code",
      "source": [
        "#ejercicio 4.A - La última columna m será la media de los valores positivos si p es 1 y la media de los valores negativos si p es 0. Sugerencia: los métodos groupby y transform pueden encadenarse. Documentación método transform \n",
        "import statistics as st \n",
        "df['M'] = st.mean(df['p'])\n",
        "#df.groupby('p').transform(mean)\n",
        "print (df)"
      ],
      "metadata": {
        "colab": {
          "base_uri": "https://localhost:8080/"
        },
        "id": "qee9nIBkjDhE",
        "outputId": "45de5a13-cff5-4585-d1ed-f9b44ec8a12c"
      },
      "execution_count": null,
      "outputs": [
        {
          "output_type": "stream",
          "name": "stdout",
          "text": [
            "        t         s       s10         d  p        M\n",
            "0    0.00  0.000000       NaN       NaN  0  0.58209\n",
            "1    0.02  0.019999       NaN       NaN  0  0.58209\n",
            "2    0.04  0.039989       NaN       NaN  0  0.58209\n",
            "3    0.06  0.059964       NaN       NaN  0  0.58209\n",
            "4    0.08  0.079915       NaN       NaN  0  0.58209\n",
            "..    ...       ...       ...       ... ..      ...\n",
            "196  3.92 -0.702146 -0.546691  0.155455  1  0.58209\n",
            "197  3.94 -0.716246 -0.563327  0.152918  1  0.58209\n",
            "198  3.96 -0.730058 -0.579738  0.150320  1  0.58209\n",
            "199  3.98 -0.743579 -0.595917  0.147662  1  0.58209\n",
            "200  4.00 -0.756802 -0.611858  0.144945  1  0.58209\n",
            "\n",
            "[201 rows x 6 columns]\n"
          ]
        }
      ]
    },
    {
      "cell_type": "code",
      "source": [
        "#ejercicio 4.B - Crea finalmente un data frame de solo dos filas con el sumatorio de los valores negativos de la columna d y el sumatorio de los valores positivos de la columna d. Sugerencia: El método groupby será suficiente. \n",
        "nuevodf = df.groupby(['p'])\n",
        "nuevodf.sum()"
      ],
      "metadata": {
        "colab": {
          "base_uri": "https://localhost:8080/",
          "height": 143
        },
        "id": "uQt_u4vykuSC",
        "outputId": "dd9533e4-7d1e-4f72-f081-ac5268c0a6b0"
      },
      "execution_count": null,
      "outputs": [
        {
          "output_type": "execute_result",
          "data": {
            "text/plain": [
              "        t          s        s10          d          M\n",
              "p                                                    \n",
              "0   69.72  54.950468  44.966963  -9.086202  48.895522\n",
              "1  332.28  27.350556  44.272509  16.921953  68.104478"
            ],
            "text/html": [
              "\n",
              "  <div id=\"df-6988431f-ce77-4fcd-8b38-12e0672c4eca\">\n",
              "    <div class=\"colab-df-container\">\n",
              "      <div>\n",
              "<style scoped>\n",
              "    .dataframe tbody tr th:only-of-type {\n",
              "        vertical-align: middle;\n",
              "    }\n",
              "\n",
              "    .dataframe tbody tr th {\n",
              "        vertical-align: top;\n",
              "    }\n",
              "\n",
              "    .dataframe thead th {\n",
              "        text-align: right;\n",
              "    }\n",
              "</style>\n",
              "<table border=\"1\" class=\"dataframe\">\n",
              "  <thead>\n",
              "    <tr style=\"text-align: right;\">\n",
              "      <th></th>\n",
              "      <th>t</th>\n",
              "      <th>s</th>\n",
              "      <th>s10</th>\n",
              "      <th>d</th>\n",
              "      <th>M</th>\n",
              "    </tr>\n",
              "    <tr>\n",
              "      <th>p</th>\n",
              "      <th></th>\n",
              "      <th></th>\n",
              "      <th></th>\n",
              "      <th></th>\n",
              "      <th></th>\n",
              "    </tr>\n",
              "  </thead>\n",
              "  <tbody>\n",
              "    <tr>\n",
              "      <th>0</th>\n",
              "      <td>69.72</td>\n",
              "      <td>54.950468</td>\n",
              "      <td>44.966963</td>\n",
              "      <td>-9.086202</td>\n",
              "      <td>48.895522</td>\n",
              "    </tr>\n",
              "    <tr>\n",
              "      <th>1</th>\n",
              "      <td>332.28</td>\n",
              "      <td>27.350556</td>\n",
              "      <td>44.272509</td>\n",
              "      <td>16.921953</td>\n",
              "      <td>68.104478</td>\n",
              "    </tr>\n",
              "  </tbody>\n",
              "</table>\n",
              "</div>\n",
              "      <button class=\"colab-df-convert\" onclick=\"convertToInteractive('df-6988431f-ce77-4fcd-8b38-12e0672c4eca')\"\n",
              "              title=\"Convert this dataframe to an interactive table.\"\n",
              "              style=\"display:none;\">\n",
              "        \n",
              "  <svg xmlns=\"http://www.w3.org/2000/svg\" height=\"24px\"viewBox=\"0 0 24 24\"\n",
              "       width=\"24px\">\n",
              "    <path d=\"M0 0h24v24H0V0z\" fill=\"none\"/>\n",
              "    <path d=\"M18.56 5.44l.94 2.06.94-2.06 2.06-.94-2.06-.94-.94-2.06-.94 2.06-2.06.94zm-11 1L8.5 8.5l.94-2.06 2.06-.94-2.06-.94L8.5 2.5l-.94 2.06-2.06.94zm10 10l.94 2.06.94-2.06 2.06-.94-2.06-.94-.94-2.06-.94 2.06-2.06.94z\"/><path d=\"M17.41 7.96l-1.37-1.37c-.4-.4-.92-.59-1.43-.59-.52 0-1.04.2-1.43.59L10.3 9.45l-7.72 7.72c-.78.78-.78 2.05 0 2.83L4 21.41c.39.39.9.59 1.41.59.51 0 1.02-.2 1.41-.59l7.78-7.78 2.81-2.81c.8-.78.8-2.07 0-2.86zM5.41 20L4 18.59l7.72-7.72 1.47 1.35L5.41 20z\"/>\n",
              "  </svg>\n",
              "      </button>\n",
              "      \n",
              "  <style>\n",
              "    .colab-df-container {\n",
              "      display:flex;\n",
              "      flex-wrap:wrap;\n",
              "      gap: 12px;\n",
              "    }\n",
              "\n",
              "    .colab-df-convert {\n",
              "      background-color: #E8F0FE;\n",
              "      border: none;\n",
              "      border-radius: 50%;\n",
              "      cursor: pointer;\n",
              "      display: none;\n",
              "      fill: #1967D2;\n",
              "      height: 32px;\n",
              "      padding: 0 0 0 0;\n",
              "      width: 32px;\n",
              "    }\n",
              "\n",
              "    .colab-df-convert:hover {\n",
              "      background-color: #E2EBFA;\n",
              "      box-shadow: 0px 1px 2px rgba(60, 64, 67, 0.3), 0px 1px 3px 1px rgba(60, 64, 67, 0.15);\n",
              "      fill: #174EA6;\n",
              "    }\n",
              "\n",
              "    [theme=dark] .colab-df-convert {\n",
              "      background-color: #3B4455;\n",
              "      fill: #D2E3FC;\n",
              "    }\n",
              "\n",
              "    [theme=dark] .colab-df-convert:hover {\n",
              "      background-color: #434B5C;\n",
              "      box-shadow: 0px 1px 3px 1px rgba(0, 0, 0, 0.15);\n",
              "      filter: drop-shadow(0px 1px 2px rgba(0, 0, 0, 0.3));\n",
              "      fill: #FFFFFF;\n",
              "    }\n",
              "  </style>\n",
              "\n",
              "      <script>\n",
              "        const buttonEl =\n",
              "          document.querySelector('#df-6988431f-ce77-4fcd-8b38-12e0672c4eca button.colab-df-convert');\n",
              "        buttonEl.style.display =\n",
              "          google.colab.kernel.accessAllowed ? 'block' : 'none';\n",
              "\n",
              "        async function convertToInteractive(key) {\n",
              "          const element = document.querySelector('#df-6988431f-ce77-4fcd-8b38-12e0672c4eca');\n",
              "          const dataTable =\n",
              "            await google.colab.kernel.invokeFunction('convertToInteractive',\n",
              "                                                     [key], {});\n",
              "          if (!dataTable) return;\n",
              "\n",
              "          const docLinkHtml = 'Like what you see? Visit the ' +\n",
              "            '<a target=\"_blank\" href=https://colab.research.google.com/notebooks/data_table.ipynb>data table notebook</a>'\n",
              "            + ' to learn more about interactive tables.';\n",
              "          element.innerHTML = '';\n",
              "          dataTable['output_type'] = 'display_data';\n",
              "          await google.colab.output.renderOutput(dataTable, element);\n",
              "          const docLink = document.createElement('div');\n",
              "          docLink.innerHTML = docLinkHtml;\n",
              "          element.appendChild(docLink);\n",
              "        }\n",
              "      </script>\n",
              "    </div>\n",
              "  </div>\n",
              "  "
            ]
          },
          "metadata": {},
          "execution_count": 18
        }
      ]
    },
    {
      "cell_type": "code",
      "source": [
        "df.to_csv ('ejercicio 7',sep=';')"
      ],
      "metadata": {
        "id": "DCIJ4AMEgSoe"
      },
      "execution_count": null,
      "outputs": []
    },
    {
      "cell_type": "code",
      "source": [
        "#ejercicio 5 - Para practicar con la depuración del código: Repara el programa subido al aula virtual. exercice_debug_1.py \n",
        "#MODIFY EACH STEP IN ORDER TO RUN COMPLETLY THE PROGRAM\n",
        "print('STEP 1')\n",
        "for i in range(0,11):\n",
        "  x = i\n",
        "#tabulero al X de arriba\n",
        "print(f'x should be 10:{x}')\n",
        "if x == 10:\n",
        "    print('SUCCESS! IN STEP 1')\n",
        "print('STEP 2')\n",
        "x = False\n",
        "for i in range(0,11):\n",
        "    x = x or True\n",
        "#Cambiar la AND para OR\n",
        "    if x and  i == 5:\n",
        "        break \n",
        "    \n",
        "print(f'x should be True:{x}')\n",
        "print(f'i should be 5:{i}')\n",
        "if i == 5 and x:\n",
        "    print('SUCCESS! IN STEP 2')"
      ],
      "metadata": {
        "colab": {
          "base_uri": "https://localhost:8080/"
        },
        "id": "adT-ttYbli3U",
        "outputId": "26387507-923e-4bf1-ce8a-82c402f0ac26"
      },
      "execution_count": null,
      "outputs": [
        {
          "output_type": "stream",
          "name": "stdout",
          "text": [
            "STEP 1\n",
            "x should be 10:10\n",
            "SUCCESS! IN STEP 1\n",
            "STEP 2\n",
            "x should be True:True\n",
            "i should be 5:5\n",
            "SUCCESS! IN STEP 2\n"
          ]
        }
      ]
    },
    {
      "cell_type": "code",
      "source": [
        "#ejercicio 6 - Calcula el septuagésimo tercer (73º) número primo. \n",
        "import numpy as np\n",
        "def is_prime(n):\n",
        "  for i in range(2,int(np.sqrt(n))+1):\n",
        "    if (n%1) == 0:\n",
        "      return False\n",
        "  return True\n",
        "\n",
        "is_prime(73)\n"
      ],
      "metadata": {
        "colab": {
          "base_uri": "https://localhost:8080/"
        },
        "id": "sZVWkiXrcyce",
        "outputId": "22f17792-2931-4cf6-e7e8-a616dfb6fff8"
      },
      "execution_count": null,
      "outputs": [
        {
          "output_type": "execute_result",
          "data": {
            "text/plain": [
              "False"
            ]
          },
          "metadata": {},
          "execution_count": 15
        }
      ]
    },
    {
      "cell_type": "code",
      "source": [
        "#ejercicio 7 - encuentre un intervalo que tenga 73 números no primos seguidos \n",
        "contador = 0\n",
        "last_none_prime = 1\n",
        "next_number= 2\n",
        "list = []\n",
        "\n",
        "while contador < 73:\n",
        "  next_number = next_number + 1\n",
        "  if not is_prime (next_number):\n",
        "    contador += 1\n",
        "    list.append(next_number)\n",
        "  else:\n",
        "    contador = 0\n",
        "    list = []\n",
        "print(list)\n"
      ],
      "metadata": {
        "colab": {
          "base_uri": "https://localhost:8080/"
        },
        "id": "VynnvhQgsK4f",
        "outputId": "e1ea0282-6917-49cf-aee7-47b167733f77"
      },
      "execution_count": null,
      "outputs": [
        {
          "output_type": "stream",
          "name": "stdout",
          "text": [
            "[4, 5, 6, 7, 8, 9, 10, 11, 12, 13, 14, 15, 16, 17, 18, 19, 20, 21, 22, 23, 24, 25, 26, 27, 28, 29, 30, 31, 32, 33, 34, 35, 36, 37, 38, 39, 40, 41, 42, 43, 44, 45, 46, 47, 48, 49, 50, 51, 52, 53, 54, 55, 56, 57, 58, 59, 60, 61, 62, 63, 64, 65, 66, 67, 68, 69, 70, 71, 72, 73, 74, 75, 76]\n"
          ]
        }
      ]
    },
    {
      "cell_type": "code",
      "source": [],
      "metadata": {
        "id": "WPgcAT6ireM2"
      },
      "execution_count": null,
      "outputs": []
    }
  ]
}